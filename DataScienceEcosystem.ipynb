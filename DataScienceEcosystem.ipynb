{
 "cells": [
  {
   "cell_type": "markdown",
   "id": "274191f1-eedd-4319-895b-125fafc1c4a1",
   "metadata": {},
   "source": [
    "# Data Science Tools and Ecosystem"
   ]
  },
  {
   "cell_type": "markdown",
   "id": "0c5a0f9c-e1d2-4c9a-a9e1-f791d15ed3a4",
   "metadata": {
    "tags": []
   },
   "source": [
    "In this notebook, Data Science Tools and Ecosystem are summarized."
   ]
  },
  {
   "cell_type": "markdown",
   "id": "7b6e7009-362b-488d-b477-792ec7f0d0d5",
   "metadata": {},
   "source": [
    "**Objectives**\n",
    "- List of popular languages for Data Science\n",
    "- List of popular libraries for Data Science\n",
    "- List of tools"
   ]
  },
  {
   "cell_type": "code",
   "execution_count": null,
   "id": "d5b13e75-9cde-4d76-881c-8d8d9740854a",
   "metadata": {},
   "outputs": [],
   "source": []
  },
  {
   "cell_type": "markdown",
   "id": "0f8889d8-582b-42d5-a422-a54a2eb6a01d",
   "metadata": {},
   "source": [
    "Some of the popular languages that Data Scientists use are:\n",
    "1. python\n",
    "1. R\n",
    "1. Julia"
   ]
  },
  {
   "cell_type": "markdown",
   "id": "c8f629a4-61dc-4833-ae36-d90b97c459b2",
   "metadata": {},
   "source": [
    "Some of the commonly used libraries used by Data Scientists include:\n",
    "1. Pandas\n",
    "1. SciPy\n",
    "1. NumPy"
   ]
  },
  {
   "cell_type": "markdown",
   "id": "0c9f2334-5202-44c7-9ec1-d9edfbce6926",
   "metadata": {},
   "source": [
    "## Data Science Tools"
   ]
  },
  {
   "cell_type": "markdown",
   "id": "1c3f35ff-b9aa-4ebf-aab5-ac39c249586f",
   "metadata": {},
   "source": [
    "| Data Science Tools | \n",
    "|:--------:|\n",
    "|  Jupyter   |\n",
    "|  Apache Hadoop   |\n",
    "|  Apache Spark |"
   ]
  },
  {
   "cell_type": "markdown",
   "id": "22e0ca35-16b6-45f1-9c40-5df6d0fffbe6",
   "metadata": {},
   "source": [
    "### Below are a few examples of evaluating arithmetic expressions in Python"
   ]
  },
  {
   "cell_type": "code",
   "execution_count": null,
   "id": "51d8973f-2cb4-4d2c-a7e3-6de96ad645cb",
   "metadata": {},
   "outputs": [],
   "source": [
    "#This a simple arithmetic expression to mutiply then add integers"
   ]
  },
  {
   "cell_type": "code",
   "execution_count": 3,
   "id": "03f24a19-a513-45a0-a1b9-0a71e5bf36b4",
   "metadata": {
    "tags": []
   },
   "outputs": [
    {
     "data": {
      "text/plain": [
       "17"
      ]
     },
     "execution_count": 3,
     "metadata": {},
     "output_type": "execute_result"
    }
   ],
   "source": [
    "(3*4)+5"
   ]
  },
  {
   "cell_type": "code",
   "execution_count": 4,
   "id": "0c78cd53-4cbd-4f41-b1f6-84aaaf1eda3a",
   "metadata": {
    "tags": []
   },
   "outputs": [
    {
     "data": {
      "text/plain": [
       "3.3333333333333335"
      ]
     },
     "execution_count": 4,
     "metadata": {},
     "output_type": "execute_result"
    }
   ],
   "source": [
    "#This will convert 200 minutes to hours by diving by 60\n",
    "200/60"
   ]
  },
  {
   "cell_type": "markdown",
   "id": "0484c5af-7e31-4019-a0ab-6e0b27c7deb1",
   "metadata": {},
   "source": [
    "## Author\n",
    "Ferdinand Martinus"
   ]
  },
  {
   "cell_type": "code",
   "execution_count": null,
   "id": "80d7d0f6-aa91-40ce-a96e-ce79099c2347",
   "metadata": {},
   "outputs": [],
   "source": []
  }
 ],
 "metadata": {
  "kernelspec": {
   "display_name": "Python",
   "language": "python",
   "name": "conda-env-python-py"
  },
  "language_info": {
   "codemirror_mode": {
    "name": "ipython",
    "version": 3
   },
   "file_extension": ".py",
   "mimetype": "text/x-python",
   "name": "python",
   "nbconvert_exporter": "python",
   "pygments_lexer": "ipython3",
   "version": "3.7.12"
  }
 },
 "nbformat": 4,
 "nbformat_minor": 5
}
